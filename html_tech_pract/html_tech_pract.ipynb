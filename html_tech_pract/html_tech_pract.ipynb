{
 "cells": [
  {
   "cell_type": "markdown",
   "metadata": {},
   "source": [
    "# Технологическая практика\n",
    "\n",
    "## Анализ данных html"
   ]
  },
  {
   "cell_type": "markdown",
   "metadata": {},
   "source": [
    "## Задача 1\n",
    "\n",
    "Дана страница https://ru.wikipedia.org/wiki/Премия_«Оскар»_за_лучший_фильм#Достижения_по_другим_номинациям_Оскара\n",
    "\n",
    "Используя удобные для вас модули Python (Например requests, bs4 и pandas, но можно и любые другие) сгрузить в удобную для вас структуру данных (например pandas-табличку) данные о номинантах и победителях премии Оскар за лучший фильм за всю историю существования премии. Заметьте, на страничке эта информация в нескольких таблицах. По данным ответьте на вопросы. P.S. Результат нужно именно посчитать, если на странице в явном виде указан ответ на вопрос, просто выгрузить этот ответ нельзя:\n",
    "\n",
    "    1. Сколько раз были номинированы фильмы, созданные при участии Стивена Спилберга?\n",
    "    2. Фильмы какой компании получили больше Оскаров за лучший фильм: Warner Bros. или Paramount Pictures и насколько больше?"
   ]
  },
  {
   "cell_type": "code",
   "execution_count": 1,
   "metadata": {},
   "outputs": [],
   "source": [
    "from bs4 import BeautifulSoup\n",
    "import requests as req\n",
    "import pandas as pd\n",
    "import re"
   ]
  },
  {
   "cell_type": "code",
   "execution_count": 2,
   "metadata": {},
   "outputs": [
    {
     "name": "stdout",
     "output_type": "stream",
     "text": [
      "Сколько раз были номинированы фильмы, созданные при участии Стивена Спилберга? 9\n",
      "Фильмы какой компании получили больше Оскаров за лучший фильм: Warner Bros. или Paramount Pictures и насколько больше? Warner Bros.; 1\n"
     ]
    }
   ],
   "source": [
    "wiki = \"https://ru.wikipedia.org/wiki/%D0%9F%D1%80%D0%B5%D0%BC%D0%B8%D1%8F_%C2%AB%D0%9E%D1%81%D0%BA%D0%B0%D1%80%C2%BB_%D0%B7%D0%B0_%D0%BB%D1%83%D1%87%D1%88%D0%B8%D0%B9_%D1%84%D0%B8%D0%BB%D1%8C%D0%BC#%D0%94%D0%BE%D1%81%D1%82%D0%B8%D0%B6%D0%B5%D0%BD%D0%B8%D1%8F_%D0%BF%D0%BE_%D0%B4%D1%80%D1%83%D0%B3%D0%B8%D0%BC_%D0%BD%D0%BE%D0%BC%D0%B8%D0%BD%D0%B0%D1%86%D0%B8%D1%8F%D0%BC_%D0%9E%D1%81%D0%BA%D0%B0%D1%80%D0%B0\"\n",
    "\n",
    "resp = req.get(wiki)\n",
    "soup = BeautifulSoup(resp.text, 'lxml')\n",
    "res_table = soup.find_all('table', {'class' : 'wikitable'})\n",
    "\n",
    "all_data = []\n",
    "victory_data = []\n",
    "for table in res_table:\n",
    "\tfor tr in table.find_all('tr'):\n",
    "\t\tall_data.append(' '.join(tr.text.split('\\n')))\n",
    "\tfor tr in table.find_all('tr', {'style' : 'background:#FAEB86'}):\n",
    "\t\tvictory_data.append(' '.join(tr.text.split('\\n')))\n",
    "\tfor td in filter(None,table.find_all('td', {'style' : 'background:#FAEB86'})):\n",
    "\t\tvictory_data.append(td.text)\n",
    "\n",
    "nomination = -1\n",
    "\n",
    "for data in all_data:\n",
    "\tif re.findall(\".*Стивен Спилберг.*\",data):\n",
    "\t\tnomination += 1\n",
    "\n",
    "W_B = 0\n",
    "P_P = 0\n",
    "for data in victory_data:\n",
    "\tif re.findall(\".*Стивен Спилберг.*\",data):\n",
    "\t\tnomination -= 1\n",
    "\tif re.findall(\".*Paramount Pictures.*\", data):\n",
    "\t\tP_P += 1\n",
    "\tif re.findall(\".*Warner Bros.*\", data):\n",
    "\t\tW_B += 1\n",
    "\n",
    "victory = \"Warner Bros.\" if max(P_P, W_B) == W_B else \"Paramount Pictures\"\n",
    "print(f\"Сколько раз были номинированы фильмы, созданные при участии Стивена Спилберга? {nomination}\")\n",
    "print(f\"Фильмы какой компании получили больше Оскаров за лучший фильм: Warner Bros. или Paramount Pictures и насколько больше? {victory}; {abs(W_B - P_P)}\")"
   ]
  },
  {
   "cell_type": "markdown",
   "metadata": {},
   "source": [
    "## Задача 2\n",
    "\n",
    "Дана страница https://ru.wikipedia.org/wiki/Премия_«Оскар»_за_лучшую_женскую_роль\n",
    "\n",
    "Используя удобные для вас модули Python (Например requests, bs4 и pandas, но можно и любые другие) сгрузить в удобную для вас структуру данных (например pandas-табличку) данные о номинантах и победителях премии Оскар за лучшую женскую роль за всю историю существования премии. Заметьте, на страничке эта информация в нескольких таблицах. По данным ответьте на вопросы. P.S. Результат нужно именно посчитать, если на странице в явном виде указан ответ на вопрос, просто выгрузить этот ответ нельзя:\n",
    "\n",
    "    1. Какая актриса чаще всего номинировалась на Оскар?\n",
    "    2. Насколько отличается количество номинаций самой часто номинировавшейся актрисы и второй по частоте?"
   ]
  },
  {
   "cell_type": "code",
   "execution_count": 3,
   "metadata": {},
   "outputs": [
    {
     "name": "stdout",
     "output_type": "stream",
     "text": [
      "Какая актриса чаще всего номинировалась на Оскар? • Мерил Стрип\n",
      "Насколько отличается количество номинаций самой часто номинировавшейся актрисы и второй по частоте? 5\n"
     ]
    }
   ],
   "source": [
    "wiki = \"https://ru.wikipedia.org/wiki/Премия_«Оскар»_за_лучшую_женскую_роль\"\n",
    "\n",
    "resp = req.get(wiki)\n",
    "soup = BeautifulSoup(resp.text, 'lxml')\n",
    "res_table = soup.find_all('table', {'class' : 'wikitable'})\n",
    "\n",
    "data_actress = []\n",
    "for table in res_table:\n",
    "\tfor tr in table.find_all('tr'):\n",
    "\t\tbuf = filter(lambda x: False if re.findall(\".*\\d.*|Церемония|Фото лауреата|Актриса|Фильм|Роль\", x) or x == \"\" else True, tr.text.split('\\n'))\n",
    "\t\tdata_actress.append(buf)\n",
    "\n",
    "data_actress.pop(2)\n",
    "data_actress.pop(2)\n",
    "\n",
    "data_actress = pd.DataFrame(filter(None, data_actress), columns=[\"Actress\", \"Film\", \"Role\"])\n",
    "new = data_actress[~pd.isnull(data_actress).all(1)]\n",
    "col_nom = dict.fromkeys(set(new['Actress']), 0)\n",
    "\n",
    "for actress in new['Actress']:\n",
    "\tcol_nom[actress] += 1\n",
    "\n",
    "max_nom = max(col_nom.values())\n",
    "second_nom = max(filter(lambda x: False if x == max_nom else True, col_nom.values()))\n",
    "for key in col_nom:\n",
    "\tif col_nom[key] == max_nom:\n",
    "\t\tfirst_actress = key\n",
    "\telif col_nom[key] == second_nom:\n",
    "\t\tsecond_actress = key\n",
    "\n",
    "print(f\"Какая актриса чаще всего номинировалась на Оскар? {first_actress}\")\n",
    "print(f\"Насколько отличается количество номинаций самой часто номинировавшейся актрисы и второй по частоте? {col_nom[first_actress]-col_nom[second_actress]}\")"
   ]
  },
  {
   "cell_type": "markdown",
   "metadata": {},
   "source": [
    "## Задача 3\n",
    "\n",
    "Дана страница https://www.worldometers.info/world-population/world-population-by-year/\n",
    "\n",
    "На ней представлены данные о росте численности населения Земли. Используя удобные для вас модули Python (Например requests, bs4 и pandas, но можно и любые другие) сгрузить в удобную для вас структуру данных (например pandas-табличку) необходимые данные и нарисовать графики ежегодного прироста городского населения и ежегодного прироста общего населения, начиная с 1951 года. Если вы сгрузили данные в pandas-dataframe, графики можно построить так:"
   ]
  },
  {
   "cell_type": "code",
   "execution_count": 10,
   "metadata": {},
   "outputs": [
    {
     "data": {
      "image/png": "[encoded data removed]",
      "text/plain": [
       "<Figure size 432x288 with 1 Axes>"
      ]
     },
     "metadata": {
      "needs_background": "light"
     },
     "output_type": "display_data"
    }
   ],
   "source": [
    "import matplotlib.pyplot as plt\n",
    "import matplotlib.patches as mpatches\n",
    "import matplotlib.ticker as ticker\n",
    "\n",
    "wiki = \"https://www.worldometers.info/world-population/world-population-by-year/\"\n",
    "\n",
    "resp = req.get(wiki)\n",
    "soup = BeautifulSoup(resp.text, 'lxml')\n",
    "table = soup.find_all('tbody')\n",
    "\n",
    "data = []\n",
    "for tr in table[0].find_all('tr'):\n",
    "\tdata.append([td.text for td in tr.find_all('td')])\n",
    "\n",
    "data = pd.DataFrame(data, columns=[\"Year\", \"World Population\", \"Yearly Change\", \"Net Change\", \"Density(P/Km²)\", \"Urban Pop\", \"Urban Pop %\"])\n",
    "index = data.index[data.Year == '1951']\n",
    "\n",
    "x_world = data[\"Year\"][:index[0]+1][::-1]\n",
    "y_world = [int(''.join(i.split(','))) for i in data[\"World Population\"]][:index[0]+1][::-1]\n",
    "\n",
    "y_urban = []\n",
    "for i in data[\"Urban Pop\"]:\n",
    "\ttry:\n",
    "\t\ty_urban.append(int(''.join(re.findall(\"\\d*\", i))))\n",
    "\texcept:\n",
    "\t\tpass\n",
    "y_urban.reverse()\n",
    "\n",
    "fig, ax = plt.subplots()\n",
    "\n",
    "ax.xaxis.set_major_locator(ticker.MultipleLocator(10))\n",
    "ax.xaxis.set_minor_locator(ticker.MultipleLocator(5))\n",
    "\n",
    "ax.plot(x_world, y_world, 'g', label='World Pop')\n",
    "ax.plot(x_world, y_urban, 'r', label='Urban Pop')\n",
    "ax.legend()\n",
    "plt.autoscale(tight=True)\n",
    "# Рисуем сетку пунктиром\n",
    "plt.grid(True, linestyle='-', color='0.75')\n",
    "plt.show()"
   ]
  }
 ],
 "metadata": {
  "kernelspec": {
   "display_name": "Python 3",
   "language": "python",
   "name": "python3"
  },
  "language_info": {
   "codemirror_mode": {
    "name": "ipython",
    "version": 3
   },
   "file_extension": ".py",
   "mimetype": "text/x-python",
   "name": "python",
   "nbconvert_exporter": "python",
   "pygments_lexer": "ipython3",
   "version": "3.8.5"
  }
 },
 "nbformat": 4,
 "nbformat_minor": 4
}
